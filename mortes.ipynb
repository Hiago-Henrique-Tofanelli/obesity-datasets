{
 "cells": [
  {
   "cell_type": "code",
   "execution_count": 1,
   "metadata": {},
   "outputs": [
    {
     "name": "stdout",
     "output_type": "stream",
     "text": [
      "O número total de mortos é: 508622.0\n"
     ]
    }
   ],
   "source": [
    "import pandas as pd\n",
    "\n",
    "# Importa o arquivo\n",
    "data = pd.read_csv('mortesporcomorbidade.csv')\n",
    "\n",
    "# Filtra o DataFrame para incluir apenas as entradas com 'State' igual a 'United States'\n",
    "data = data[data['State'] == 'United States']\n",
    "\n",
    "# Filtra o DataFrame para incluir apenas as entradas com 'Group' igual a 'By Total'\n",
    "data = data[data['Group'] == 'By Total']\n",
    "\n",
    "# Filtra o DataFrame para incluir apenas as entradas com 'Age Group' igual a 'All Ages'\n",
    "data = data[data['Age Group'] == 'All Ages']\n",
    "\n",
    "# Filtra o DataFrame para incluir as condições desejadas\n",
    "condicao1 = 'All other conditions and causes (residual)'\n",
    "condicao2 = 'Intentional and unintentional injury, poisoning, and other adverse events'\n",
    "\n",
    "data_condicoes = data[(data['Condition'] == condicao1) | (data['Condition'] == condicao2)]\n",
    "\n",
    "# Calcula a soma do número de mortos na coluna \"COVID-19 Deaths\" para as condições desejadas\n",
    "soma_mortos = data_condicoes['COVID-19 Deaths'].sum()\n",
    "\n",
    "# Exibe o resultado da soma\n",
    "print(f'O número total de mortos é: {soma_mortos}')\n"
   ]
  },
  {
   "cell_type": "code",
   "execution_count": 2,
   "metadata": {},
   "outputs": [
    {
     "name": "stdout",
     "output_type": "stream",
     "text": [
      "O número total de mortos para a condição Obesity em All Ages no estado United States é: 53321.0\n"
     ]
    }
   ],
   "source": [
    "# Filtra o DataFrame para incluir apenas as entradas com 'State' igual a 'United States'\n",
    "data = data[data['State'] == 'United States']\n",
    "\n",
    "# Filtra o DataFrame para incluir apenas as entradas com 'Age Group' igual a 'All Ages'\n",
    "data = data[data['Age Group'] == 'All Ages']\n",
    "\n",
    "# Filtra o DataFrame para incluir apenas as entradas com a condição específica 'Obesity'\n",
    "condicao = 'Obesity'\n",
    "data_condicao = data[data['Condition'] == condicao]\n",
    "\n",
    "# Calcula a soma do número de mortos na coluna \"COVID-19 Deaths\" para a condição desejada\n",
    "soma_mortos = data_condicao['COVID-19 Deaths'].sum()\n",
    "\n",
    "# Exibe o resultado da soma\n",
    "print(f'O número total de mortos para a condição {condicao} em All Ages no estado United States é: {soma_mortos}')"
   ]
  },
  {
   "cell_type": "code",
   "execution_count": 3,
   "metadata": {},
   "outputs": [
    {
     "name": "stdout",
     "output_type": "stream",
     "text": [
      "A porcentagem de mortes por obesidade em relação ao total de mortes gerais é: 31.45%\n"
     ]
    }
   ],
   "source": [
    "import pandas as pd\n",
    "\n",
    "# Importa o arquivo\n",
    "data = pd.read_csv('mortesporcomorbidade.csv')\n",
    "\n",
    "# Filtra o DataFrame para incluir apenas as entradas com 'State' igual a 'United States'\n",
    "data_geral = data[data['State'] == 'United States']\n",
    "\n",
    "# Filtra o DataFrame para incluir apenas as entradas com 'Group' igual a 'By Total'\n",
    "data_geral = data_geral[data_geral['Group'] == 'By Total']\n",
    "\n",
    "# Filtra o DataFrame para incluir apenas as entradas com 'Age Group' igual a 'All Ages'\n",
    "data_geral = data_geral[data_geral['Age Group'] == 'All Ages']\n",
    "\n",
    "# Filtra o DataFrame para incluir as condições gerais desejadas\n",
    "condicao1 = 'All other conditions and causes (residual)'\n",
    "condicao2 = 'Intentional and unintentional injury, poisoning, and other adverse events'\n",
    "\n",
    "data_condicoes_gerais = data_geral[(data_geral['Condition'] == condicao1) | (data_geral['Condition'] == condicao2)]\n",
    "\n",
    "# Calcula a soma do número de mortos na coluna \"COVID-19 Deaths\" para as condições gerais desejadas\n",
    "soma_mortos_gerais = data_condicoes_gerais['COVID-19 Deaths'].sum()\n",
    "\n",
    "# Filtra o DataFrame para incluir apenas as entradas com 'State' igual a 'United States'\n",
    "data_obesidade = data[data['State'] == 'United States']\n",
    "\n",
    "# Filtra o DataFrame para incluir apenas as entradas com 'Age Group' igual a 'All Ages'\n",
    "data_obesidade = data_obesidade[data_obesidade['Age Group'] == 'All Ages']\n",
    "\n",
    "# Filtra o DataFrame para incluir apenas as entradas com a condição específica 'Obesity'\n",
    "condicao_obesidade = 'Obesity'\n",
    "data_condicao_obesidade = data_obesidade[data_obesidade['Condition'] == condicao_obesidade]\n",
    "\n",
    "# Calcula a soma do número de mortos na coluna \"COVID-19 Deaths\" para a condição de obesidade\n",
    "soma_mortos_obesidade = data_condicao_obesidade['COVID-19 Deaths'].sum()\n",
    "\n",
    "# Calcula a porcentagem de mortes por obesidade em relação ao total de mortes gerais\n",
    "porcentagem_obesidade = (soma_mortos_obesidade / soma_mortos_gerais) * 100\n",
    "\n",
    "# Exibe o resultado\n",
    "print(f'A porcentagem de mortes por obesidade em relação ao total de mortes gerais é: {porcentagem_obesidade:.2f}%')\n"
   ]
  },
  {
   "cell_type": "code",
   "execution_count": null,
   "metadata": {},
   "outputs": [],
   "source": []
  }
 ],
 "metadata": {
  "kernelspec": {
   "display_name": "Python 3",
   "language": "python",
   "name": "python3"
  },
  "language_info": {
   "codemirror_mode": {
    "name": "ipython",
    "version": 3
   },
   "file_extension": ".py",
   "mimetype": "text/x-python",
   "name": "python",
   "nbconvert_exporter": "python",
   "pygments_lexer": "ipython3",
   "version": "3.9.13"
  }
 },
 "nbformat": 4,
 "nbformat_minor": 2
}
